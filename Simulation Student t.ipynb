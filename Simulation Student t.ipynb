{
 "cells": [
  {
   "cell_type": "code",
   "execution_count": null,
   "id": "ddf95ca8",
   "metadata": {},
   "outputs": [],
   "source": [
    "import numpy as np\n",
    "import matplotlib.pyplot as plt\n",
    "from sklearn import datasets\n",
    "from scipy.stats import multivariate_normal as mvn\n",
    "from scipy.stats import t\n",
    "import seaborn as sns\n",
    "from interface import Sampler, to_numpy, writeChains, loadChains\n",
    "\n",
    "cols = np.array(sns.color_palette(as_cmap=True))"
   ]
  },
  {
   "cell_type": "code",
   "execution_count": null,
   "id": "7da64a8b",
   "metadata": {},
   "outputs": [],
   "source": [
    "ndata = 150\n",
    "ntest = 150"
   ]
  },
  {
   "cell_type": "code",
   "execution_count": null,
   "id": "9f39d642",
   "metadata": {},
   "outputs": [],
   "source": [
    "fixed_covs_train = np.vstack(\n",
    "    [np.random.normal(size=(ndata, 2)) + np.array([-3, 0]),\n",
    "     np.random.normal(size=(ndata, 2)) + np.array([3, 0])])\n",
    "fixed_covs_test = np.vstack(\n",
    "    [np.random.normal(size=(ntest, 2)) + np.array([-3, 0]),\n",
    "     np.random.normal(size=(ntest, 2)) + np.array([3, 0])])\n",
    "true_clus_train = np.concatenate([\n",
    "    np.zeros(ndata), np.ones(ndata)\n",
    "]).astype(int)\n",
    "true_clus_test = np.concatenate([\n",
    "    np.zeros(ntest), np.ones(ntest)\n",
    "]).astype(int)"
   ]
  },
  {
   "cell_type": "code",
   "execution_count": null,
   "id": "020c77aa",
   "metadata": {},
   "outputs": [],
   "source": [
    "plt.scatter(fixed_covs_train[:, 0], fixed_covs_train[:, 1], c=cols[true_clus_train])\n",
    "plt.show()"
   ]
  },
  {
   "cell_type": "code",
   "execution_count": null,
   "id": "c59ec7eb",
   "metadata": {},
   "outputs": [],
   "source": [
    "import scipy\n",
    "\n",
    "fdim = 2\n",
    "ldim = 5\n",
    "rdim = 3\n",
    "\n",
    "phi0 = [\n",
    "    np.eye(3) * 1.1,\n",
    "    np.array([[1.1, -0.1, 0], [-0.1, 1.1, 0], [0, 0, 0.9]]) \n",
    "]\n",
    "sigma0 = np.eye(3) * 0.2\n",
    "beta0 = np.zeros((rdim, ldim))\n",
    "gamma0 =np.zeros((rdim, fdim))\n",
    "\n",
    "ndata = len(true_clus_train)\n",
    "\n",
    "\n",
    "def generate_data(fixed_cov, clus, T=10):\n",
    "    long_cov = np.random.normal(size=(T, ldim))\n",
    "    y = np.zeros((T, rdim))\n",
    "    y[0, :] = np.random.normal(loc=5, scale=0.7, size=rdim)\n",
    "    for t in range(1, T):\n",
    "        mean = np.matmul(phi0[clus], y[t-1, :]) + \\\n",
    "              np.matmul(beta0, long_cov[t, :]) + \\\n",
    "              np.matmul(gamma0, fixed_cov) \n",
    "        err = scipy.stats.t.rvs(2, scale=0.2, size=rdim)\n",
    "        y[t, :] = mean + err    \n",
    "    return y, long_cov\n",
    "\n",
    "\n",
    "T = 10\n",
    "\n",
    "resps = []\n",
    "long_covs = []\n",
    "insample_test_resp = []\n",
    "insample_test_long = []\n",
    "\n",
    "for i in range(ndata):\n",
    "    y, long = generate_data(\n",
    "        fixed_covs_train[i, :], true_clus_train[i], T)\n",
    "    if (i >= 100 and i < 150) or (i > 250) :\n",
    "        insample_test_resp.append(y[5:, :])\n",
    "        insample_test_long.append(long[5:, :])\n",
    "        y = y[:5, :]\n",
    "        long = long[:5, :]\n",
    "    resps.append(y)\n",
    "    long_covs.append(long)\n",
    "\n",
    "    \n",
    "\n",
    "test_y = []\n",
    "test_long = []\n",
    "\n",
    "for i in range(ntest):\n",
    "    c = np.random.choice(np.arange(2))\n",
    "    y, long = generate_data(\n",
    "        fixed_covs_test[i, :], true_clus_test[i], T)\n",
    "    test_y.append(y)\n",
    "    test_long.append(long)\n",
    "    true_clus_test[i] = c"
   ]
  },
  {
   "cell_type": "code",
   "execution_count": null,
   "id": "39fd23b3",
   "metadata": {},
   "outputs": [],
   "source": [
    "fig, axis = plt.subplots(nrows=1, ncols=3, figsize=(10, 3))\n",
    "for i in range(ndata):\n",
    "    for j in range(rdim):\n",
    "        axis[j].plot(np.arange(resps[i].shape[0]), resps[i][:, j], color=cols[true_clus_train[i]])"
   ]
  },
  {
   "cell_type": "code",
   "execution_count": null,
   "id": "33175a15",
   "metadata": {
    "collapsed": true
   },
   "outputs": [],
   "source": [
    "lsb_sampler = Sampler(50, \"LSB\")\n",
    "lsb_sampler.set_prior(\n",
    "    phi00=np.eye(rdim),\n",
    "    v00=np.eye(rdim * rdim) * 0.15,\n",
    "    nu=30,\n",
    "    tau=15,\n",
    "    lamb=1.0,\n",
    "    sigma0=np.eye(rdim) * 0.4,\n",
    "    beta0=np.zeros((rdim, ldim)),\n",
    "    gamma0=np.zeros((rdim, fdim)),\n",
    "    alpha0=np.zeros(fdim),\n",
    "    vara=10,\n",
    ")\n",
    "is_missing = []\n",
    "lsb_chains = lsb_sampler.run_mcmc(\n",
    "    0, 10000, 10000, 10, resps, long_covs, fixed_covs_train, is_missing)"
   ]
  },
  {
   "cell_type": "code",
   "execution_count": null,
   "id": "5bb5449c",
   "metadata": {
    "collapsed": true
   },
   "outputs": [],
   "source": [
    "dp_sampler = Sampler(50, \"DP\")\n",
    "dp_sampler.set_prior(\n",
    "    phi00=np.zeros((rdim, rdim)),\n",
    "    v00=np.eye(rdim * rdim),\n",
    "    nu=30,\n",
    "    tau=15,\n",
    "    lamb=0.1,\n",
    "    sigma0=np.eye(rdim) * 0.4,\n",
    "    beta0=np.zeros((rdim, ldim)),\n",
    "    gamma0=np.zeros((rdim, fdim)),\n",
    "    alpha0=np.zeros(fdim),\n",
    ")\n",
    "is_missing = []\n",
    "dp_chains = dp_sampler.run_mcmc(\n",
    "    0, 10000, 10000, 10, resps, long_covs, fixed_covs_train, is_missing)"
   ]
  },
  {
   "cell_type": "code",
   "execution_count": null,
   "id": "5db81100",
   "metadata": {},
   "outputs": [],
   "source": [
    "def score(samples, true_y):\n",
    "    pred_mean = np.median(samples, axis=0).reshape(*true_y.shape)\n",
    "    return np.sum((pred_mean - true_y) ** 2) / true_y.shape[0]\n",
    "\n",
    "\n",
    "def get_out_of_sample_mse(sampler, test_long, test_fix, test_y):\n",
    "    mse_full = []\n",
    "    ntest = len(y)\n",
    "    for i in range(ntest):\n",
    "        pred_full = sampler.sample_predictive(\n",
    "            test_long[i], test_fix[i], test_y[i][0, :])\n",
    "        mse_full.append(score(pred_full, test_y[i]))\n",
    "    return mse_full\n",
    "\n",
    "\n",
    "def get_in_sample_mse(sampler, test_y, test_long, data_idx):\n",
    "    mse_insample = []\n",
    "    for i in range(100):\n",
    "        pred_insample = dp_sampler.predict_insample(\n",
    "            data_idx, test_long[i], fixed_covs[data_idx, :], 5)\n",
    "        mse_insample_dp.append(score(pred_insample, test_y[i]))\n",
    "    return mse_insample"
   ]
  },
  {
   "cell_type": "code",
   "execution_count": null,
   "id": "86a0c33b",
   "metadata": {},
   "outputs": [],
   "source": [
    "oos_mse_lsb = get_out_of_sample_mse(\n",
    "    lsb_sampler, test_long, fixed_covs_test, test_y)\n",
    "\n",
    "oos_mse_dp = get_out_of_sample_mse(\n",
    "    dp_sampler, test_long, fixed_covs_test, test_y)"
   ]
  },
  {
   "cell_type": "code",
   "execution_count": null,
   "id": "deac89f6",
   "metadata": {},
   "outputs": [],
   "source": [
    "print(np.median(oos_mse_dp), np.mean(oos_mse_dp), np.std(oos_mse_dp))"
   ]
  },
  {
   "cell_type": "code",
   "execution_count": null,
   "id": "88799f3e",
   "metadata": {},
   "outputs": [],
   "source": [
    "print(np.median(oos_mse_lsb), np.mean(oos_mse_lsb), np.std(oos_mse_lsb))"
   ]
  },
  {
   "cell_type": "code",
   "execution_count": null,
   "id": "65dba151",
   "metadata": {},
   "outputs": [],
   "source": [
    "from sklearn.metrics import adjusted_rand_score"
   ]
  },
  {
   "cell_type": "code",
   "execution_count": null,
   "id": "1d7bc30b",
   "metadata": {},
   "outputs": [],
   "source": [
    "aris = []\n",
    "for c in dp_chains:\n",
    "    aris.append(adjusted_rand_score(c.clus_allocs, true_clus_train))\n",
    "np.mean(aris)"
   ]
  },
  {
   "cell_type": "code",
   "execution_count": null,
   "id": "c3b4c6d0",
   "metadata": {},
   "outputs": [],
   "source": [
    "aris = []\n",
    "for c in lsb_chains:\n",
    "    aris.append(adjusted_rand_score(c.clus_allocs, true_clus_train))\n",
    "np.mean(aris)"
   ]
  },
  {
   "cell_type": "code",
   "execution_count": null,
   "id": "ef6dabcd",
   "metadata": {},
   "outputs": [],
   "source": [
    "def get_in_sample_mse(sampler):\n",
    "    out = []\n",
    "    curr_idx = 0\n",
    "    for i in range(ndata):\n",
    "        if (i >= 100 and i < 150) or (i > 250):\n",
    "            pred_insample = sampler.predict_insample(\n",
    "                i, insample_test_long[curr_idx], fixed_covs_train[i, :], 5)\n",
    "            out.append(score(pred_insample, insample_test_resp[curr_idx]))\n",
    "            curr_idx += 1\n",
    "    return out"
   ]
  },
  {
   "cell_type": "code",
   "execution_count": null,
   "id": "2b14e230",
   "metadata": {},
   "outputs": [],
   "source": [
    "insample_mse_dp = get_in_sample_mse(dp_sampler)\n",
    "\n",
    "insample_mse_ldp = get_in_sample_mse(lsb_sampler)\n",
    "\n",
    "print(np.median(insample_mse_dp), np.mean(insample_mse_dp), np.std(insample_mse_dp))\n",
    "\n",
    "print(np.median(insample_mse_ldp), np.mean(insample_mse_ldp), np.std(insample_mse_ldp))"
   ]
  }
 ],
 "metadata": {
  "kernelspec": {
   "display_name": "Python 3",
   "language": "python",
   "name": "python3"
  },
  "language_info": {
   "codemirror_mode": {
    "name": "ipython",
    "version": 3
   },
   "file_extension": ".py",
   "mimetype": "text/x-python",
   "name": "python",
   "nbconvert_exporter": "python",
   "pygments_lexer": "ipython3",
   "version": "3.9.9"
  }
 },
 "nbformat": 4,
 "nbformat_minor": 5
}
