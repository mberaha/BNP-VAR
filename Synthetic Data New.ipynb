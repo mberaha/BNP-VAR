{
 "cells": [
  {
   "cell_type": "code",
   "execution_count": null,
   "metadata": {},
   "outputs": [],
   "source": [
    "import pickle\n",
    "import numpy as np\n",
    "import matplotlib.pyplot as plt\n",
    "from scipy.stats import multivariate_normal as mvn\n",
    "from interface import Sampler, to_numpy\n",
    "\n",
    "from sklearn.metrics import adjusted_rand_score\n",
    "\n",
    "import sys\n",
    "import pp_mix_cpp  # noqa"
   ]
  },
  {
   "cell_type": "code",
   "execution_count": null,
   "metadata": {},
   "outputs": [],
   "source": [
    "fdim = 2\n",
    "ldim = 5\n",
    "rdim = 3\n",
    "\n",
    "phi0 = [\n",
    "    np.eye(3) * 1.1, \n",
    "    np.array([[1.1, -0.1, 0], [-0.1, 1.1, 0], [-0.1, 0, 0.9]]), \n",
    "    np.array([[1.0, 0, -0.2], [-0.1, 0.5, 0], [0, 0.25, 1.1]])]\n",
    "sigma0 = np.eye(3) * 0.2\n",
    "beta0 = np.zeros((rdim, ldim))\n",
    "gamma0 =np.zeros((rdim, fdim))\n",
    "\n",
    "fdim = 2\n",
    "ldim = 5\n",
    "\n",
    "def generate_data1(clus, T=10):\n",
    "    means_fixed = [np.array([-3, 0]), np.array([3, 0]), np.array([0, 3])]\n",
    "    curr_long = np.random.normal(size=(T, ldim))\n",
    "    curr_fixed = np.random.normal(loc=means_fixed[c])\n",
    "    y = np.zeros((T, rdim))\n",
    "    y[0, :] = np.random.normal(loc=5, size=rdim)\n",
    "    for t in range(1, T):\n",
    "        mean = np.matmul(phi0[clus], y[t-1, :]) + \\\n",
    "              np.matmul(beta0, curr_long[t, :]) + \\\n",
    "              np.matmul(gamma0, curr_fixed) \n",
    "        err = mvn.rvs(cov=sigma0)\n",
    "        y[t, :] = mean + err    \n",
    "    return y, curr_long, curr_fixed\n",
    "\n",
    "\n",
    "def generate_data2(clus, T=10):\n",
    "    curr_long = np.random.normal(size=(T, ldim))\n",
    "    if clus == 0:\n",
    "        curr_fixed = np.random.normal(size=fdim, scale=0.5)\n",
    "    else:\n",
    "        while True:\n",
    "            curr_fixed = np.random.normal(size=fdim, scale=2)\n",
    "            if np.linalg.norm(curr_fixed) > 5:\n",
    "                break\n",
    "    y = np.zeros((T, rdim))\n",
    "    y[0, :] = np.random.normal(loc=5, size=rdim)           \n",
    "    for t in range(1, T):\n",
    "        mean = np.matmul(phi0[clus], y[t-1, :]) + \\\n",
    "              np.matmul(beta0, curr_long[t, :]) + \\\n",
    "              np.matmul(gamma0, curr_fixed) \n",
    "        err = mvn.rvs(cov=sigma0)\n",
    "        y[t, :] = mean + err \n",
    "        \n",
    "    \n",
    "    return y, curr_long, curr_fixed\n",
    "\n",
    "def score(samples, true_y):\n",
    "    pred_mean = np.median(samples, axis=0).reshape(*true_y.shape)\n",
    "    return np.sum((pred_mean - true_y) ** 2) / true_y.shape[0]"
   ]
  },
  {
   "cell_type": "code",
   "execution_count": null,
   "metadata": {},
   "outputs": [],
   "source": [
    "np.random.seed(202011)\n",
    "\n",
    "ndata = 300\n",
    "fdim = 2\n",
    "ldim = 5\n",
    "rdim = 3\n",
    "true_clus = np.zeros(ndata, dtype=np.int)\n",
    "weights = np.ones(3) / 3\n",
    "\n",
    "fixed_covs = np.zeros((ndata, fdim))\n",
    "long_covs = []\n",
    "resps = []\n",
    "insample_test_resp = []\n",
    "insample_test_long = []\n",
    "\n",
    "\n",
    "# phi0 = [np.eye(3) * 0.3, np.zeros((3, 3)), np.eye(3) * (-0.3)]\n",
    "# phi0 = [\n",
    "#     np.eye(3) * 1.1, \n",
    "#     np.array([[1.1, -0.1, 0], [-0.1, 1.0, 0], [0, 0, 1.0]]), \n",
    "#     np.array([[1.0, 0, -0.2], [-0.1, 0.5, 0], [0, 0.25, 1.1]])]\n",
    "\n",
    "# phi0 = [np.eye(3) * 1.1, np.zeros((3, 3)), np.eye(3) * (-0.3)]\n",
    "sigma0 = np.eye(3) * 0.2\n",
    "# beta0 = np.random.normal(size=(rdim, ldim))\n",
    "# gamma0 =np.random.normal(size=(rdim, fdim))\n",
    "beta0 = np.zeros((rdim, ldim))\n",
    "gamma0 =np.zeros((rdim, fdim))\n",
    "\n",
    "means_fixed = [np.array([-5, 0]), np.array([5, 0]), np.array([0, 5])]\n",
    "\n",
    "T = 10\n",
    "\n",
    "for i in range(ndata):\n",
    "    c = np.random.choice(np.arange(2))\n",
    "    y, long, fix = generate_data1(c, T)\n",
    "    if i >= 200:\n",
    "        insample_test_resp.append(y[5:, :])\n",
    "        insample_test_long.append(long[5:, :])\n",
    "        y = y[:5, :]\n",
    "        long = long[:5, :]\n",
    "    resps.append(y)\n",
    "    long_covs.append(long)\n",
    "    fixed_covs[i, :] = fix\n",
    "    true_clus[i] = c\n",
    "    \n",
    "ntest = 300\n",
    "test_y = []\n",
    "test_long = []\n",
    "test_fix = np.zeros((ntest, fdim))\n",
    "true_clus_test = np.zeros(ntest, dtype=np.int)\n",
    "\n",
    "for i in range(ntest):\n",
    "    c = np.random.choice(np.arange(2))\n",
    "    y, long, fix = generate_data1(c, T)\n",
    "    test_y.append(y)\n",
    "    test_long.append(long)\n",
    "    test_fix[i, :] = fix\n",
    "    true_clus_test[i] = c"
   ]
  },
  {
   "cell_type": "code",
   "execution_count": null,
   "metadata": {},
   "outputs": [],
   "source": [
    "cols = np.array([\"steelblue\", \"orange\", \"forestgreen\"])\n",
    "fig, axis = plt.subplots(nrows=1, ncols=3, figsize=(10, 3))\n",
    "for i in range(ndata):\n",
    "    for j in range(rdim):\n",
    "        axis[j].plot(np.arange(resps[i].shape[0]), resps[i][:, j], color=cols[true_clus[i]])"
   ]
  },
  {
   "cell_type": "code",
   "execution_count": null,
   "metadata": {
    "scrolled": true
   },
   "outputs": [],
   "source": [
    "lsb_sampler = Sampler(10, \"LSB\")\n",
    "is_missing = [np.zeros_like(r) for r in resps]\n",
    "lsb_chains = lsb_sampler.run_mcmc(\n",
    "    0, 5000, 10000, 1, resps, long_covs, fixed_covs, is_missing)"
   ]
  },
  {
   "cell_type": "code",
   "execution_count": null,
   "metadata": {},
   "outputs": [],
   "source": [
    "adjusted_rand_score(lsb_chains[-2].clus_allocs, true_clus)"
   ]
  },
  {
   "cell_type": "code",
   "execution_count": null,
   "metadata": {},
   "outputs": [],
   "source": [
    "import seaborn as sns\n",
    "\n",
    "phi_new1 = lsb_sampler.sample_phi_predictive(np.array([-2, 0]))\n",
    "phi_new2 = lsb_sampler.sample_phi_predictive(np.array([0.0, 0]))\n",
    "phi_new3 = lsb_sampler.sample_phi_predictive(np.array([2, 0]))\n",
    "\n",
    "fig, axes = plt.subplots(nrows=3, ncols=3, figsize=(10, 10))\n",
    "for i in range(3):\n",
    "    for j in range(3):\n",
    "        sns.kdeplot([x[i, j] for x in phi_new1 if np.abs(x[i, j]) < 1.5], ax=axes[i][j], \n",
    "                    bw_adjust=10, fill=True, alpha=0.1)\n",
    "        sns.kdeplot([x[i, j] for x in phi_new3], ax=axes[i][j], bw_adjust=5, fill=True, alpha=0.1)\n",
    "        sns.kdeplot([x[i, j] for x in phi_new2], ax=axes[i][j], bw_adjust=1, fill=True, alpha=0.4)\n",
    "        axes[i][j].set_xlim((-2, 2))\n",
    "        \n",
    "        axes[i][j].set_ylabel(\"\")\n",
    "        \n",
    "plt.savefig(\"predictive_phi.pdf\")"
   ]
  },
  {
   "cell_type": "code",
   "execution_count": null,
   "metadata": {},
   "outputs": [],
   "source": [
    "true_clus"
   ]
  },
  {
   "cell_type": "code",
   "execution_count": null,
   "metadata": {},
   "outputs": [],
   "source": [
    "i = 0\n",
    "j = 0\n",
    "plt.hist([x[i, j] for x in phi_new2], density=True, alpha=0.3, bins=100)\n",
    "plt.show()"
   ]
  },
  {
   "cell_type": "code",
   "execution_count": null,
   "metadata": {},
   "outputs": [],
   "source": [
    "mse_full_lsb = []\n",
    "# mse_onestep_lsb = []\n",
    "\n",
    "for i in range(ntest):\n",
    "    pred_full = lsb_sampler.sample_predictive(test_long[i], test_fix[i], test_y[i][0, :])\n",
    "#     pred_onestep = lsb_sampler.sample_predictive_onestep(test_long[i], test_fix[i], test_y[i][0, :])\n",
    "    mse_full_lsb.append(score(pred_full, test_y[i]))\n",
    "#     mse_onestep_lsb.append(score(pred_onestep, test_y[i]))"
   ]
  },
  {
   "cell_type": "code",
   "execution_count": null,
   "metadata": {},
   "outputs": [],
   "source": [
    "print(np.mean(mse_full_lsb), np.std(mse_full_lsb))"
   ]
  },
  {
   "cell_type": "code",
   "execution_count": null,
   "metadata": {},
   "outputs": [],
   "source": [
    "mse_insample_lsb = []\n",
    "for i in range(100):\n",
    "    data_idx = 200 + i\n",
    "    pred_insample = lsb_sampler.predict_insample(\n",
    "        data_idx, insample_test_long[i], fixed_covs[data_idx, :], 5)\n",
    "    mse_insample_lsb.append(score(pred_insample, insample_test_resp[i]))"
   ]
  },
  {
   "cell_type": "code",
   "execution_count": null,
   "metadata": {},
   "outputs": [],
   "source": [
    "print(np.mean(mse_insample_lsb), np.std(mse_insample_lsb))"
   ]
  },
  {
   "cell_type": "code",
   "execution_count": null,
   "metadata": {},
   "outputs": [],
   "source": [
    "idx = 15\n",
    "pred_insample = pp_mix_cpp.sample_predictive_insample(\n",
    "    idx, 5, resps[idx][:5, :], long_covs[idx][:5, :], fixed_covs[idx, :],\n",
    "    lsb_sampler._serialized_chains)\n",
    "\n",
    "pred_insample_ = np.vstack([x.reshape(1, -1) for x in pred_insample])\n",
    "lower_insample = np.quantile(pred_insample_, 0.05, axis=0).reshape(*pred_insample[0].shape)\n",
    "upper_insample = np.quantile(pred_insample_, 0.95, axis=0).reshape(*pred_insample[0].shape)\n",
    "mean_insample = np.mean(pred_insample, axis=0).reshape(*pred_insample[0].shape)\n",
    "\n",
    "\n",
    "pred_full = lsb_sampler.sample_predictive(\n",
    "    long_covs[idx], fixed_covs[idx, :], resps[idx][0, :])\n",
    "\n",
    "\n",
    "pred_full_ = np.vstack([x.reshape(1, -1) for x in pred_full])\n",
    "lower_full = np.quantile(pred_full_, 0.025, axis=0).reshape(*pred_full[0].shape)\n",
    "upper_full = np.quantile(pred_full_, 0.975, axis=0).reshape(*pred_full[0].shape)\n",
    "mean_full = np.median(pred_full_, axis=0).reshape(*pred_full[0].shape)\n",
    "\n",
    "\n",
    "fig, axes = plt.subplots(nrows=1, ncols=3, figsize=(10, 3))\n",
    "\n",
    "\n",
    "for i in range(3):\n",
    "    axes[i].plot(np.arange(resps[idx].shape[0]), resps[idx][:, i], lw=2, label=\"Observed\")\n",
    "    axes[i].plot(np.arange(mean_full.shape[0]), mean_full[:, i], lw=2, label=\"OOS\")\n",
    "    axes[i].plot(np.arange(mean_full.shape[0]), lower_full[:, i], \"--\", color=\"orange\")\n",
    "    axes[i].plot(np.arange(mean_full.shape[0]), upper_full[:, i], \"--\", color=\"orange\")\n",
    "    axes[i].plot(np.arange(5, 10), mean_insample[:, i], lw=2, color=\"forestgreen\", label=\"INS\")\n",
    "    axes[i].plot(np.arange(5, 10), lower_insample[:, i], \"--\", color=\"forestgreen\")\n",
    "    axes[i].plot(np.arange(5, 10), upper_insample[:, i], \"--\", color=\"forestgreen\")\n",
    "axes[0].legend()\n",
    "plt.savefig(\"pred_lsb.pdf\")"
   ]
  },
  {
   "cell_type": "markdown",
   "metadata": {},
   "source": [
    "# Dirichlet Process"
   ]
  },
  {
   "cell_type": "code",
   "execution_count": null,
   "metadata": {
    "scrolled": true
   },
   "outputs": [],
   "source": [
    "dp_sampler = Sampler(25, \"DP\")\n",
    "is_missing = [np.zeros_like(r) for r in resps]\n",
    "dp_chains = dp_sampler.run_mcmc(\n",
    "    0, 10000, 1000, 10, resps, long_covs, fixed_covs, is_missing)"
   ]
  },
  {
   "cell_type": "code",
   "execution_count": null,
   "metadata": {},
   "outputs": [],
   "source": [
    "mse_full_dp = []\n",
    "# mse_onestep_lsb = []\n",
    "mse_insample_dp = []\n",
    "\n",
    "for i in range(ntest):\n",
    "    pred_full = dp_sampler.sample_predictive(test_long[i], test_fix[i], test_y[i][0, :])\n",
    "#     pred_onestep = lsb_sampler.sample_predictive_onestep(test_long[i], test_fix[i], test_y[i][0, :])\n",
    "    mse_full_dp.append(score(pred_full, test_y[i]))\n",
    "#     mse_onestep_lsb.append(score(pred_onestep, test_y[i]))"
   ]
  },
  {
   "cell_type": "code",
   "execution_count": null,
   "metadata": {},
   "outputs": [],
   "source": [
    "print(np.mean(mse_full_dp), np.std(mse_full_dp))"
   ]
  },
  {
   "cell_type": "code",
   "execution_count": null,
   "metadata": {},
   "outputs": [],
   "source": [
    "mse_insample_dp = []\n",
    "for i in range(100):\n",
    "    data_idx = 200 + i\n",
    "    pred_insample = dp_sampler.predict_insample(\n",
    "        data_idx, insample_test_long[i], fixed_covs[data_idx, :], 5)\n",
    "    mse_insample_dp.append(score(pred_insample, insample_test_resp[i]))"
   ]
  },
  {
   "cell_type": "code",
   "execution_count": null,
   "metadata": {},
   "outputs": [],
   "source": [
    "idx = 15\n",
    "pred_insample = pp_mix_cpp.sample_predictive_insample(\n",
    "    idx, 5, resps[idx][:5, :], long_covs[idx][:5, :], fixed_covs[idx, :],\n",
    "    dp_sampler._serialized_chains)\n",
    "\n",
    "pred_insample_ = np.vstack([x.reshape(1, -1) for x in pred_insample])\n",
    "lower_insample = np.quantile(pred_insample_, 0.05, axis=0).reshape(*pred_insample[0].shape)\n",
    "upper_insample = np.quantile(pred_insample_, 0.95, axis=0).reshape(*pred_insample[0].shape)\n",
    "mean_insample = np.mean(pred_insample, axis=0).reshape(*pred_insample[0].shape)\n",
    "\n",
    "\n",
    "pred_full = dp_sampler.sample_predictive(\n",
    "    long_covs[idx], fixed_covs[idx, :], resps[idx][0, :])\n",
    "\n",
    "\n",
    "pred_full_ = np.vstack([x.reshape(1, -1) for x in pred_full])\n",
    "lower_full = np.quantile(pred_full_, 0.025, axis=0).reshape(*pred_full[0].shape)\n",
    "upper_full = np.quantile(pred_full_, 0.975, axis=0).reshape(*pred_full[0].shape)\n",
    "mean_full = np.median(pred_full_, axis=0).reshape(*pred_full[0].shape)\n",
    "\n",
    "\n",
    "fig, axes = plt.subplots(nrows=1, ncols=3, figsize=(10, 3))\n",
    "\n",
    "\n",
    "for i in range(3):\n",
    "    axes[i].plot(np.arange(resps[idx].shape[0]), resps[idx][:, i], lw=2, label=\"Observed\")\n",
    "    axes[i].plot(np.arange(mean_full.shape[0]), mean_full[:, i], lw=2, label=\"OOS\")\n",
    "    axes[i].plot(np.arange(mean_full.shape[0]), lower_full[:, i], \"--\", color=\"orange\")\n",
    "    axes[i].plot(np.arange(mean_full.shape[0]), upper_full[:, i], \"--\", color=\"orange\")\n",
    "    axes[i].plot(np.arange(5, 10), mean_insample[:, i], lw=2, color=\"forestgreen\", label=\"INS\")\n",
    "    axes[i].plot(np.arange(5, 10), lower_insample[:, i], \"--\", color=\"forestgreen\")\n",
    "    axes[i].plot(np.arange(5, 10), upper_insample[:, i], \"--\", color=\"forestgreen\")\n",
    "axes[0].legend()\n",
    "plt.savefig(\"pred_dp.pdf\")"
   ]
  }
 ],
 "metadata": {
  "kernelspec": {
   "display_name": "Python 3",
   "language": "python",
   "name": "python3"
  },
  "language_info": {
   "codemirror_mode": {
    "name": "ipython",
    "version": 3
   },
   "file_extension": ".py",
   "mimetype": "text/x-python",
   "name": "python",
   "nbconvert_exporter": "python",
   "pygments_lexer": "ipython3",
   "version": "3.9.9"
  }
 },
 "nbformat": 4,
 "nbformat_minor": 4
}
