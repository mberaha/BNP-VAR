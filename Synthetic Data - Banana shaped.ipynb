{
 "cells": [
  {
   "cell_type": "code",
   "execution_count": null,
   "id": "63f73cc9",
   "metadata": {},
   "outputs": [],
   "source": [
    "import numpy as np\n",
    "import matplotlib.pyplot as plt\n",
    "from sklearn import datasets\n",
    "from scipy.stats import multivariate_normal as mvn\n",
    "import seaborn as sns\n",
    "\n",
    "cols = np.array(sns.color_palette(as_cmap=True))"
   ]
  },
  {
   "cell_type": "code",
   "execution_count": null,
   "id": "71065724",
   "metadata": {},
   "outputs": [],
   "source": [
    "ndata = 300\n",
    "ntest = 300\n",
    "\n",
    "X, true_clus = datasets.make_moons(ndata + ntest, noise=0.1)\n",
    "X = np.hstack([np.ones(X.shape[0]).reshape(-1, 1), X])"
   ]
  },
  {
   "cell_type": "code",
   "execution_count": null,
   "id": "62824d57",
   "metadata": {},
   "outputs": [],
   "source": [
    "for i in range(X.shape[0]):\n",
    "    if true_clus[i] == 0 and X[i, 1] > 0:\n",
    "        true_clus[i] = 2"
   ]
  },
  {
   "cell_type": "code",
   "execution_count": null,
   "id": "ab1a3c4b",
   "metadata": {},
   "outputs": [],
   "source": [
    "fixed_covs_train = X[:ndata, :]\n",
    "fixed_covs_test = X[ndata:, :]\n",
    "true_clus_train = true_clus[:ndata]\n",
    "true_clus_test = true_clus[ndata:]"
   ]
  },
  {
   "cell_type": "code",
   "execution_count": null,
   "id": "9f90d427",
   "metadata": {},
   "outputs": [],
   "source": [
    "true_clus_train"
   ]
  },
  {
   "cell_type": "code",
   "execution_count": null,
   "id": "0b57775d",
   "metadata": {},
   "outputs": [],
   "source": [
    "plt.scatter(X[:, 1], X[:, 2], c=cols[true_clus])\n",
    "plt.savefig(\"banana_shaped_clusters.pdf\", bbox_inches=\"tight\")\n",
    "plt.show()"
   ]
  },
  {
   "cell_type": "code",
   "execution_count": null,
   "id": "1b00fba5",
   "metadata": {},
   "outputs": [],
   "source": [
    "fdim = 3\n",
    "ldim = 5\n",
    "rdim = 3\n",
    "\n",
    "phi0 = [\n",
    "    np.array([[0.9, -0.1, 0], [-0.1, 0.9, 0], [-0.1, 0, 1.5]]),\n",
    "    np.eye(3), \n",
    "    np.eye(3) * 0.7,\n",
    "    np.eye(3),\n",
    "]\n",
    "sigma0 = np.eye(3) * 0.2\n",
    "beta0 = np.zeros((rdim, ldim))\n",
    "gamma0 =np.zeros((rdim, fdim))\n",
    "\n",
    "\n",
    "def generate_data(fixed_cov, clus, T=10):\n",
    "    long_cov = np.random.normal(size=(T, ldim))\n",
    "    y = np.zeros((T, rdim))\n",
    "    y[0, :] = np.random.normal(loc=5, scale=0.7, size=rdim)\n",
    "    for t in range(1, T):\n",
    "        mean = np.matmul(phi0[clus], y[t-1, :]) + \\\n",
    "              np.matmul(beta0, long_cov[t, :]) + \\\n",
    "              np.matmul(gamma0, fixed_cov) \n",
    "        err = mvn.rvs(cov=sigma0)\n",
    "        y[t, :] = mean + err    \n",
    "    return y, long_cov\n",
    "\n",
    "\n",
    "T = 10\n",
    "\n",
    "resps = []\n",
    "long_covs = []\n",
    "insample_test_resp = []\n",
    "insample_test_long = []\n",
    "\n",
    "for i in range(ndata):\n",
    "    y, long = generate_data(\n",
    "        fixed_covs_train[i, :], true_clus_train[i], T)\n",
    "    if i >= 200:\n",
    "        insample_test_resp.append(y[5:, :])\n",
    "        insample_test_long.append(long[5:, :])\n",
    "        y = y[:5, :]\n",
    "        long = long[:5, :]\n",
    "    resps.append(y)\n",
    "    long_covs.append(long)\n",
    "\n",
    "    \n",
    "\n",
    "test_y = []\n",
    "test_long = []\n",
    "\n",
    "for i in range(ntest):\n",
    "    c = np.random.choice(np.arange(2))\n",
    "    y, long = generate_data(\n",
    "        fixed_covs_test[i, :], true_clus_test[i], T)\n",
    "    test_y.append(y)\n",
    "    test_long.append(long)\n",
    "    true_clus_test[i] = c"
   ]
  },
  {
   "cell_type": "code",
   "execution_count": null,
   "id": "7e50bef7",
   "metadata": {},
   "outputs": [],
   "source": [
    "fig, axis = plt.subplots(nrows=1, ncols=3, figsize=(10, 3))\n",
    "for i in range(ndata):\n",
    "    for j in range(rdim):\n",
    "        axis[j].plot(np.arange(resps[i].shape[0]), resps[i][:, j], color=cols[true_clus[i]])"
   ]
  },
  {
   "cell_type": "code",
   "execution_count": null,
   "id": "eecd521d",
   "metadata": {},
   "outputs": [],
   "source": [
    "from interface import Sampler, to_numpy, writeChains, loadChains"
   ]
  },
  {
   "cell_type": "code",
   "execution_count": null,
   "id": "efa105f9",
   "metadata": {},
   "outputs": [],
   "source": []
  },
  {
   "cell_type": "code",
   "execution_count": null,
   "id": "163cedba",
   "metadata": {
    "scrolled": true
   },
   "outputs": [],
   "source": [
    "lsb_sampler = Sampler(50, \"LSB\")\n",
    "lsb_sampler.set_prior(\n",
    "    phi00=np.eye(rdim),\n",
    "    v00=np.eye(rdim * rdim),\n",
    "    nu=10,\n",
    "    tau=15,\n",
    "    lamb=0.01,\n",
    "    sigma0=np.eye(rdim) * 0.4,\n",
    "    beta0=np.zeros((rdim, ldim)),\n",
    "    gamma0=np.zeros((rdim, fdim)),\n",
    "    alpha0=np.zeros(fdim),\n",
    "    vara=10,\n",
    ")\n",
    "is_missing = []\n",
    "lsb_chains = lsb_sampler.run_mcmc(\n",
    "    0, 20000, 10000, 10, resps, long_covs, fixed_covs_train, is_missing)"
   ]
  },
  {
   "cell_type": "code",
   "execution_count": null,
   "id": "d42cd44e",
   "metadata": {},
   "outputs": [],
   "source": [
    "def score(samples, true_y):\n",
    "    pred_mean = np.median(samples, axis=0).reshape(*true_y.shape)\n",
    "    return np.sum((pred_mean - true_y) ** 2) / true_y.shape[0]\n",
    "\n",
    "\n",
    "def get_out_of_sample_mse(sampler, test_long, test_fix, test_y):\n",
    "    mse_full = []\n",
    "    ntest = len(y)\n",
    "    for i in range(ntest):\n",
    "        pred_full = sampler.sample_predictive(\n",
    "            test_long[i], test_fix[i], test_y[i][0, :])\n",
    "        mse_full.append(score(pred_full, test_y[i]))\n",
    "    return mse_full\n",
    "\n",
    "\n",
    "def get_in_sample_mse(sampler, test_y, test_long, data_idx):\n",
    "    mse_insample = []\n",
    "    for i in range(100):\n",
    "        pred_insample = dp_sampler.predict_insample(\n",
    "            data_idx, test_long[i], fixed_covs[data_idx, :], 5)\n",
    "        mse_insample_dp.append(score(pred_insample, test_y[i]))\n",
    "    return mse_insample"
   ]
  },
  {
   "cell_type": "code",
   "execution_count": null,
   "id": "93f96cc9",
   "metadata": {},
   "outputs": [],
   "source": [
    "oos_mse_lsb = get_out_of_sample_mse(\n",
    "    lsb_sampler, test_long, fixed_covs_test, test_y)"
   ]
  },
  {
   "cell_type": "code",
   "execution_count": null,
   "id": "9e77f2ac",
   "metadata": {},
   "outputs": [],
   "source": [
    "writeChains(lsb_chains, \"chains/lsb_banana_test.recordio\")"
   ]
  },
  {
   "cell_type": "code",
   "execution_count": null,
   "id": "e0809960",
   "metadata": {
    "scrolled": true
   },
   "outputs": [],
   "source": [
    "dp_sampler = Sampler(50, \"DP\")\n",
    "dp_sampler.set_prior(\n",
    "    phi00=np.zeros((rdim, rdim)),\n",
    "    v00=np.eye(rdim * rdim),\n",
    "    nu=10,\n",
    "    tau=15,\n",
    "    lamb=0.1,\n",
    "    sigma0=np.eye(rdim) * 0.4,\n",
    "    beta0=np.zeros((rdim, ldim)),\n",
    "    gamma0=np.zeros((rdim, fdim)),\n",
    "    alpha0=np.zeros(fdim),\n",
    ")\n",
    "is_missing = []\n",
    "dp_chains = dp_sampler.run_mcmc(\n",
    "    0, 10000, 10000, 10, resps, long_covs, fixed_covs_train, is_missing)\n",
    "\n",
    "writeChains(dp_chains, \"chains/dp_banana_test.recordio\")"
   ]
  },
  {
   "cell_type": "code",
   "execution_count": null,
   "id": "6213211a",
   "metadata": {},
   "outputs": [],
   "source": [
    "oos_mse_lsb = get_out_of_sample_mse(\n",
    "    lsb_sampler, test_long, fixed_covs_test, test_y)\n",
    "\n",
    "oos_mse_dp = get_out_of_sample_mse(\n",
    "    dp_sampler, test_long, fixed_covs_test, test_y)"
   ]
  },
  {
   "cell_type": "code",
   "execution_count": null,
   "id": "4d41af75",
   "metadata": {},
   "outputs": [],
   "source": [
    "print(np.median(oos_mse_dp), np.mean(oos_mse_dp), np.std(oos_mse_dp))"
   ]
  },
  {
   "cell_type": "code",
   "execution_count": null,
   "id": "1e0cf32e",
   "metadata": {},
   "outputs": [],
   "source": [
    "# 623.5017037628643 1604.4668253759644"
   ]
  },
  {
   "cell_type": "code",
   "execution_count": null,
   "id": "a61861a1",
   "metadata": {},
   "outputs": [],
   "source": [
    "print(np.median(oos_mse_lsb), np.mean(oos_mse_lsb), np.std(oos_mse_lsb))"
   ]
  },
  {
   "cell_type": "code",
   "execution_count": null,
   "id": "3e77be32",
   "metadata": {},
   "outputs": [],
   "source": [
    "# 91.34710232244836 141.41943421454047"
   ]
  },
  {
   "cell_type": "code",
   "execution_count": null,
   "id": "c095abc5",
   "metadata": {},
   "outputs": [],
   "source": [
    "clus = np.array(dp_chains[-8].clus_allocs)\n",
    "uniqs, cnt = np.unique(clus, return_counts=True)\n",
    "for c, v in zip(cnt, uniqs):\n",
    "    if c > 2:\n",
    "        wh = clus == v\n",
    "        plt.scatter(fixed_covs_train[wh, 1], fixed_covs_train[wh, 2])"
   ]
  },
  {
   "cell_type": "code",
   "execution_count": null,
   "id": "cc632dfd",
   "metadata": {},
   "outputs": [],
   "source": [
    "clus = np.array(lsb_chains[0].clus_allocs)\n",
    "uniqs, cnt = np.unique(clus, return_counts=True)\n",
    "for c, v in zip(cnt, uniqs):\n",
    "    if c > 2:\n",
    "        wh = clus == v\n",
    "        plt.scatter(fixed_covs_train[wh, 1], fixed_covs_train[wh, 2])"
   ]
  },
  {
   "cell_type": "code",
   "execution_count": null,
   "id": "bd915e5c",
   "metadata": {},
   "outputs": [],
   "source": [
    "def get_in_sample_mse(sampler):\n",
    "    out = []\n",
    "    for i in range(100):\n",
    "        data_idx = 200 + i\n",
    "        pred_insample = sampler.predict_insample(\n",
    "            data_idx, insample_test_long[i], fixed_covs_train[data_idx, :], 5)\n",
    "        out.append(score(pred_insample, insample_test_resp[i]))\n",
    "    return out"
   ]
  },
  {
   "cell_type": "code",
   "execution_count": null,
   "id": "2894ed56",
   "metadata": {},
   "outputs": [],
   "source": [
    "insample_mse_dp = get_in_sample_mse(dp_sampler)"
   ]
  },
  {
   "cell_type": "code",
   "execution_count": null,
   "id": "f1e00fc6",
   "metadata": {},
   "outputs": [],
   "source": [
    "insample_mse_ldp = get_in_sample_mse(lsb_sampler)"
   ]
  },
  {
   "cell_type": "code",
   "execution_count": null,
   "id": "cf72c18c",
   "metadata": {},
   "outputs": [],
   "source": [
    "print(np.median(insample_mse_dp), np.mean(insample_mse_dp), np.std(insample_mse_dp))"
   ]
  },
  {
   "cell_type": "code",
   "execution_count": null,
   "id": "31f115d1",
   "metadata": {},
   "outputs": [],
   "source": [
    "print(np.median(insample_mse_ldp), np.mean(insample_mse_ldp), np.std(insample_mse_ldp))"
   ]
  },
  {
   "cell_type": "code",
   "execution_count": null,
   "id": "39114976",
   "metadata": {},
   "outputs": [],
   "source": []
  }
 ],
 "metadata": {
  "kernelspec": {
   "display_name": "Python 3",
   "language": "python",
   "name": "python3"
  },
  "language_info": {
   "codemirror_mode": {
    "name": "ipython",
    "version": 3
   },
   "file_extension": ".py",
   "mimetype": "text/x-python",
   "name": "python",
   "nbconvert_exporter": "python",
   "pygments_lexer": "ipython3",
   "version": "3.9.9"
  }
 },
 "nbformat": 4,
 "nbformat_minor": 5
}
